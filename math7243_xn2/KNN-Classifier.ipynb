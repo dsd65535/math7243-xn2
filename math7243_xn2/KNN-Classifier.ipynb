{
 "cells": [
  {
   "cell_type": "code",
   "execution_count": 33,
   "id": "23dcd3f1-89d5-4a68-84cf-53ef348cbe89",
   "metadata": {},
   "outputs": [],
   "source": [
    "import pandas as pd\n",
    "import numpy as np\n",
    "from sklearn.model_selection import train_test_split\n",
    "from sklearn.preprocessing import StandardScaler\n",
    "from sklearn.neighbors import KNeighborsClassifier\n",
    "from sklearn.metrics import accuracy_score, classification_report"
   ]
  },
  {
   "cell_type": "code",
   "execution_count": 34,
   "id": "91747fd4-a310-4273-9e10-a4e826c43cbc",
   "metadata": {},
   "outputs": [],
   "source": [
    "filepath_1 = '/Users/eliasrapkin-siles/Downloads/Machine Learning 1/Project/22Q2 Files/CRISPR_gene_effect.csv'\n",
    "CRISPR_gene_effect = pd.read_csv(filepath_1)\n",
    "\n",
    "filepath_2 = '/Users/eliasrapkin-siles/Downloads/Machine Learning 1/Project/22Q2 Files/CRISPR_gene_dependency.csv'\n",
    "CRISPR_gene_dependency = pd.read_csv(filepath_2)\n",
    "\n",
    "filepath_3 = '/Users/eliasrapkin-siles/Downloads/Machine Learning 1/Project/22Q2 Files/CCLE_expression.csv'\n",
    "CCLE_expression = pd.read_csv(filepath_3)\n",
    "\n",
    "filepath_4 = '/Users/eliasrapkin-siles/Downloads/Machine Learning 1/Project/22Q2 Files/sample_info.csv'\n",
    "sample_info = pd.read_csv(filepath_4)"
   ]
  },
  {
   "cell_type": "code",
   "execution_count": 35,
   "id": "e8e91175-bf9e-4782-bc12-1d3823d006d3",
   "metadata": {},
   "outputs": [],
   "source": [
    "sample_info = sample_info[['DepMap_ID', 'sex', 'sample_collection_site', 'primary_disease', 'Subtype', 'age', 'lineage', 'lineage_subtype',\n",
    "                           'lineage_sub_subtype','Cellosaurus_NCIt_disease']]\n",
    "\n",
    "# Define values to exclude\n",
    "values_to_exclude = ['Adrenal Cancer', 'Teratoma', 'Embryonal Cancer', 'Unknown']"
   ]
  },
  {
   "cell_type": "code",
   "execution_count": 36,
   "id": "849999c0-c49f-45a3-b083-3e08746d5c7d",
   "metadata": {},
   "outputs": [],
   "source": [
    "CRISPR_gene_effect_master_df = pd.merge(sample_info, CRISPR_gene_effect, on=\"DepMap_ID\", how=\"outer\")\n",
    "CRISPR_gene_dependency_master_df = pd.merge(sample_info, CRISPR_gene_dependency, on=\"DepMap_ID\", how=\"outer\")\n",
    "CCLE_expression_master_df = pd.merge(sample_info, CCLE_expression, on=\"DepMap_ID\", how=\"outer\")"
   ]
  },
  {
   "cell_type": "code",
   "execution_count": 37,
   "id": "7ae87070-31f3-475a-8083-96abf4ebf6f4",
   "metadata": {},
   "outputs": [
    {
     "name": "stdout",
     "output_type": "stream",
     "text": [
      "Accuracy: 0.25\n",
      "Classification Report:\n",
      "              precision    recall  f1-score   support\n",
      "\n",
      "           0       0.11      0.71      0.20         7\n",
      "           1       1.00      0.10      0.18        10\n",
      "           2       0.36      0.31      0.33        13\n",
      "           3       0.00      0.00      0.00         5\n",
      "           4       0.71      0.38      0.50        13\n",
      "           5       0.62      0.33      0.43        15\n",
      "           6       0.00      0.00      0.00         1\n",
      "           7       0.00      0.00      0.00         2\n",
      "           8       0.00      0.00      0.00         3\n",
      "           9       0.00      0.00      0.00         1\n",
      "          10       0.00      0.00      0.00         3\n",
      "          11       0.08      0.25      0.12         4\n",
      "          12       0.00      0.00      0.00         3\n",
      "          14       0.00      0.00      0.00         1\n",
      "          17       0.00      0.00      0.00         1\n",
      "          19       0.00      0.00      0.00         1\n",
      "\n",
      "    accuracy                           0.25        83\n",
      "   macro avg       0.18      0.13      0.11        83\n",
      "weighted avg       0.42      0.25      0.25        83\n",
      "\n"
     ]
    },
    {
     "name": "stderr",
     "output_type": "stream",
     "text": [
      "/Library/Frameworks/Python.framework/Versions/3.12/lib/python3.12/site-packages/sklearn/metrics/_classification.py:1531: UndefinedMetricWarning: Precision is ill-defined and being set to 0.0 in labels with no predicted samples. Use `zero_division` parameter to control this behavior.\n",
      "  _warn_prf(average, modifier, f\"{metric.capitalize()} is\", len(result))\n",
      "/Library/Frameworks/Python.framework/Versions/3.12/lib/python3.12/site-packages/sklearn/metrics/_classification.py:1531: UndefinedMetricWarning: Precision is ill-defined and being set to 0.0 in labels with no predicted samples. Use `zero_division` parameter to control this behavior.\n",
      "  _warn_prf(average, modifier, f\"{metric.capitalize()} is\", len(result))\n",
      "/Library/Frameworks/Python.framework/Versions/3.12/lib/python3.12/site-packages/sklearn/metrics/_classification.py:1531: UndefinedMetricWarning: Precision is ill-defined and being set to 0.0 in labels with no predicted samples. Use `zero_division` parameter to control this behavior.\n",
      "  _warn_prf(average, modifier, f\"{metric.capitalize()} is\", len(result))\n"
     ]
    }
   ],
   "source": [
    "CRISPR_gene_effect_master_df = CRISPR_gene_effect_master_df.dropna()\n",
    "CRISPR_gene_effect_master_df = CRISPR_gene_effect_master_df[~CRISPR_gene_effect_master_df['primary_disease'].isin(values_to_exclude)]\n",
    "\n",
    "# Select features and target\n",
    "X = CRISPR_gene_effect_master_df.drop(['DepMap_ID', 'primary_disease'], axis=1).select_dtypes(include=np.number)\n",
    "y = CRISPR_gene_effect_master_df['primary_disease']\n",
    "\n",
    "# Encode the target variable\n",
    "y = pd.factorize(y)[0]\n",
    "\n",
    "# Split the data into training and testing sets\n",
    "X_train, X_test, y_train, y_test = train_test_split(X, y, test_size=0.2, random_state=42)\n",
    "\n",
    "# Standardize the features\n",
    "scaler = StandardScaler()\n",
    "X_train = scaler.fit_transform(X_train)\n",
    "X_test = scaler.transform(X_test)\n",
    "\n",
    "# Create and train the KNN classifier\n",
    "knn = KNeighborsClassifier(n_neighbors=5)\n",
    "knn.fit(X_train, y_train)\n",
    "\n",
    "# Make predictions\n",
    "y_pred = knn.predict(X_test)\n",
    "\n",
    "# Evaluate the model\n",
    "accuracy = accuracy_score(y_test, y_pred)\n",
    "print(f\"Accuracy: {accuracy:.2f}\")\n",
    "print(\"Classification Report:\")\n",
    "print(classification_report(y_test, y_pred))"
   ]
  },
  {
   "cell_type": "code",
   "execution_count": 38,
   "id": "502ef30c-d8d3-4926-8876-5ad7a4803115",
   "metadata": {
    "scrolled": true
   },
   "outputs": [
    {
     "name": "stderr",
     "output_type": "stream",
     "text": [
      "/Library/Frameworks/Python.framework/Versions/3.12/lib/python3.12/site-packages/sklearn/model_selection/_split.py:776: UserWarning: The least populated class in y has only 1 members, which is less than n_splits=5.\n",
      "  warnings.warn(\n"
     ]
    },
    {
     "name": "stdout",
     "output_type": "stream",
     "text": [
      "Best parameters: {'metric': 'manhattan', 'n_neighbors': 7, 'weights': 'distance'}\n",
      "Best cross-validation accuracy: 0.30\n",
      "Optimized Accuracy: 0.30\n",
      "Optimized Classification Report:\n",
      "              precision    recall  f1-score   support\n",
      "\n",
      "           0       0.16      0.86      0.27         7\n",
      "           1       1.00      0.10      0.18        10\n",
      "           2       0.22      0.31      0.26        13\n",
      "           3       0.00      0.00      0.00         5\n",
      "           4       0.78      0.54      0.64        13\n",
      "           5       0.60      0.40      0.48        15\n",
      "           6       0.00      0.00      0.00         1\n",
      "           7       0.00      0.00      0.00         2\n",
      "           8       0.00      0.00      0.00         3\n",
      "           9       0.00      0.00      0.00         1\n",
      "          10       0.00      0.00      0.00         3\n",
      "          11       0.12      0.25      0.17         4\n",
      "          12       0.00      0.00      0.00         3\n",
      "          14       0.00      0.00      0.00         1\n",
      "          17       0.00      0.00      0.00         1\n",
      "          19       0.00      0.00      0.00         1\n",
      "\n",
      "    accuracy                           0.30        83\n",
      "   macro avg       0.18      0.15      0.12        83\n",
      "weighted avg       0.41      0.30      0.28        83\n",
      "\n"
     ]
    },
    {
     "name": "stderr",
     "output_type": "stream",
     "text": [
      "/Library/Frameworks/Python.framework/Versions/3.12/lib/python3.12/site-packages/sklearn/metrics/_classification.py:1531: UndefinedMetricWarning: Precision is ill-defined and being set to 0.0 in labels with no predicted samples. Use `zero_division` parameter to control this behavior.\n",
      "  _warn_prf(average, modifier, f\"{metric.capitalize()} is\", len(result))\n",
      "/Library/Frameworks/Python.framework/Versions/3.12/lib/python3.12/site-packages/sklearn/metrics/_classification.py:1531: UndefinedMetricWarning: Precision is ill-defined and being set to 0.0 in labels with no predicted samples. Use `zero_division` parameter to control this behavior.\n",
      "  _warn_prf(average, modifier, f\"{metric.capitalize()} is\", len(result))\n",
      "/Library/Frameworks/Python.framework/Versions/3.12/lib/python3.12/site-packages/sklearn/metrics/_classification.py:1531: UndefinedMetricWarning: Precision is ill-defined and being set to 0.0 in labels with no predicted samples. Use `zero_division` parameter to control this behavior.\n",
      "  _warn_prf(average, modifier, f\"{metric.capitalize()} is\", len(result))\n"
     ]
    }
   ],
   "source": [
    "from sklearn.model_selection import GridSearchCV\n",
    "\n",
    "# Define the hyperparameter grid\n",
    "param_grid = {\n",
    "    'n_neighbors': [3, 5, 7, 9, 11],\n",
    "    'weights': ['uniform', 'distance'],\n",
    "    'metric': ['euclidean', 'manhattan', 'minkowski']\n",
    "}\n",
    "\n",
    "# Create the GridSearchCV object\n",
    "grid_search = GridSearchCV(KNeighborsClassifier(), param_grid, cv=5, scoring='accuracy')\n",
    "grid_search.fit(X_train, y_train)\n",
    "\n",
    "# Best parameters and best score\n",
    "print(f\"Best parameters: {grid_search.best_params_}\")\n",
    "print(f\"Best cross-validation accuracy: {grid_search.best_score_:.2f}\")\n",
    "\n",
    "# Use the best model to predict\n",
    "best_knn = grid_search.best_estimator_\n",
    "y_pred_optimized = best_knn.predict(X_test)\n",
    "\n",
    "# Evaluate the optimized model\n",
    "accuracy_optimized = accuracy_score(y_test, y_pred_optimized)\n",
    "print(f\"Optimized Accuracy: {accuracy_optimized:.2f}\")\n",
    "print(\"Optimized Classification Report:\")\n",
    "print(classification_report(y_test, y_pred_optimized))\n"
   ]
  },
  {
   "cell_type": "code",
   "execution_count": 51,
   "id": "6e1099a1-2ade-4c53-afdb-52b214b69f83",
   "metadata": {},
   "outputs": [
    {
     "name": "stdout",
     "output_type": "stream",
     "text": [
      "Accuracy: 0.30\n",
      "Classification Report:\n",
      "              precision    recall  f1-score   support\n",
      "\n",
      "           0       0.16      0.86      0.27         7\n",
      "           1       1.00      0.10      0.18        10\n",
      "           2       0.22      0.31      0.26        13\n",
      "           3       0.00      0.00      0.00         5\n",
      "           4       0.78      0.54      0.64        13\n",
      "           5       0.60      0.40      0.48        15\n",
      "           6       0.00      0.00      0.00         1\n",
      "           7       0.00      0.00      0.00         2\n",
      "           8       0.00      0.00      0.00         3\n",
      "           9       0.00      0.00      0.00         1\n",
      "          10       0.00      0.00      0.00         3\n",
      "          11       0.12      0.25      0.17         4\n",
      "          12       0.00      0.00      0.00         3\n",
      "          14       0.00      0.00      0.00         1\n",
      "          17       0.00      0.00      0.00         1\n",
      "          19       0.00      0.00      0.00         1\n",
      "\n",
      "    accuracy                           0.30        83\n",
      "   macro avg       0.18      0.15      0.12        83\n",
      "weighted avg       0.41      0.30      0.28        83\n",
      "\n"
     ]
    },
    {
     "name": "stderr",
     "output_type": "stream",
     "text": [
      "/Library/Frameworks/Python.framework/Versions/3.12/lib/python3.12/site-packages/sklearn/metrics/_classification.py:1531: UndefinedMetricWarning: Precision is ill-defined and being set to 0.0 in labels with no predicted samples. Use `zero_division` parameter to control this behavior.\n",
      "  _warn_prf(average, modifier, f\"{metric.capitalize()} is\", len(result))\n",
      "/Library/Frameworks/Python.framework/Versions/3.12/lib/python3.12/site-packages/sklearn/metrics/_classification.py:1531: UndefinedMetricWarning: Precision is ill-defined and being set to 0.0 in labels with no predicted samples. Use `zero_division` parameter to control this behavior.\n",
      "  _warn_prf(average, modifier, f\"{metric.capitalize()} is\", len(result))\n",
      "/Library/Frameworks/Python.framework/Versions/3.12/lib/python3.12/site-packages/sklearn/metrics/_classification.py:1531: UndefinedMetricWarning: Precision is ill-defined and being set to 0.0 in labels with no predicted samples. Use `zero_division` parameter to control this behavior.\n",
      "  _warn_prf(average, modifier, f\"{metric.capitalize()} is\", len(result))\n"
     ]
    }
   ],
   "source": [
    "CRISPR_gene_effect_master_df = CRISPR_gene_effect_master_df.dropna()\n",
    "CRISPR_gene_effect_master_df = CRISPR_gene_effect_master_df[~CRISPR_gene_effect_master_df['primary_disease'].isin(values_to_exclude)]\n",
    "\n",
    "# Select features and target\n",
    "X = CRISPR_gene_effect_master_df.drop(['DepMap_ID', 'primary_disease'], axis=1).select_dtypes(include=np.number)\n",
    "y = CRISPR_gene_effect_master_df['primary_disease']\n",
    "\n",
    "# Encode the target variable\n",
    "y = pd.factorize(y)[0]\n",
    "\n",
    "# Split the data into training and testing sets\n",
    "X_train, X_test, y_train, y_test = train_test_split(X, y, test_size=0.2, random_state=42)\n",
    "\n",
    "# Standardize the features\n",
    "scaler = StandardScaler()\n",
    "X_train = scaler.fit_transform(X_train)\n",
    "X_test = scaler.transform(X_test)\n",
    "\n",
    "# Create and train the KNN classifier\n",
    "knn = KNeighborsClassifier(n_neighbors=7, metric='manhattan', weights='distance')  # You can adjust n_neighbors\n",
    "knn.fit(X_train, y_train)\n",
    "\n",
    "# Make predictions\n",
    "y_pred = knn.predict(X_test)\n",
    "\n",
    "# Evaluate the model\n",
    "accuracy = accuracy_score(y_test, y_pred)\n",
    "print(f\"Accuracy: {accuracy:.2f}\")\n",
    "print(\"Classification Report:\")\n",
    "print(classification_report(y_test, y_pred))"
   ]
  },
  {
   "cell_type": "code",
   "execution_count": 40,
   "id": "d83b2d56-e969-4959-b5bf-1e1a1c3d3a00",
   "metadata": {},
   "outputs": [
    {
     "name": "stdout",
     "output_type": "stream",
     "text": [
      "Accuracy: 0.25\n",
      "Classification Report:\n",
      "              precision    recall  f1-score   support\n",
      "\n",
      "           0       0.11      0.71      0.20         7\n",
      "           1       1.00      0.10      0.18        10\n",
      "           2       0.36      0.31      0.33        13\n",
      "           3       0.00      0.00      0.00         5\n",
      "           4       0.71      0.38      0.50        13\n",
      "           5       0.62      0.33      0.43        15\n",
      "           6       0.00      0.00      0.00         1\n",
      "           7       0.00      0.00      0.00         2\n",
      "           8       0.00      0.00      0.00         3\n",
      "           9       0.00      0.00      0.00         1\n",
      "          10       0.00      0.00      0.00         3\n",
      "          11       0.08      0.25      0.12         4\n",
      "          12       0.00      0.00      0.00         3\n",
      "          14       0.00      0.00      0.00         1\n",
      "          17       0.00      0.00      0.00         1\n",
      "          19       0.00      0.00      0.00         1\n",
      "\n",
      "    accuracy                           0.25        83\n",
      "   macro avg       0.18      0.13      0.11        83\n",
      "weighted avg       0.42      0.25      0.25        83\n",
      "\n"
     ]
    },
    {
     "name": "stderr",
     "output_type": "stream",
     "text": [
      "/Library/Frameworks/Python.framework/Versions/3.12/lib/python3.12/site-packages/sklearn/metrics/_classification.py:1531: UndefinedMetricWarning: Precision is ill-defined and being set to 0.0 in labels with no predicted samples. Use `zero_division` parameter to control this behavior.\n",
      "  _warn_prf(average, modifier, f\"{metric.capitalize()} is\", len(result))\n",
      "/Library/Frameworks/Python.framework/Versions/3.12/lib/python3.12/site-packages/sklearn/metrics/_classification.py:1531: UndefinedMetricWarning: Precision is ill-defined and being set to 0.0 in labels with no predicted samples. Use `zero_division` parameter to control this behavior.\n",
      "  _warn_prf(average, modifier, f\"{metric.capitalize()} is\", len(result))\n",
      "/Library/Frameworks/Python.framework/Versions/3.12/lib/python3.12/site-packages/sklearn/metrics/_classification.py:1531: UndefinedMetricWarning: Precision is ill-defined and being set to 0.0 in labels with no predicted samples. Use `zero_division` parameter to control this behavior.\n",
      "  _warn_prf(average, modifier, f\"{metric.capitalize()} is\", len(result))\n"
     ]
    }
   ],
   "source": [
    "CRISPR_gene_dependency_master_df = CRISPR_gene_effect_master_df.dropna()\n",
    "CRISPR_gene_dependency_master_df = CRISPR_gene_dependency_master_df[~CRISPR_gene_dependency_master_df['primary_disease'].isin(values_to_exclude)]\n",
    "\n",
    "# Select features and target\n",
    "X = CRISPR_gene_dependency_master_df.drop(['DepMap_ID', 'primary_disease'], axis=1).select_dtypes(include=np.number)\n",
    "y = CRISPR_gene_dependency_master_df['primary_disease']\n",
    "\n",
    "# Encode the target variable\n",
    "y = pd.factorize(y)[0]\n",
    "\n",
    "# Split the data into training and testing sets\n",
    "X_train, X_test, y_train, y_test = train_test_split(X, y, test_size=0.2, random_state=42)\n",
    "\n",
    "# Standardize the features\n",
    "scaler = StandardScaler()\n",
    "X_train = scaler.fit_transform(X_train)\n",
    "X_test = scaler.transform(X_test)\n",
    "\n",
    "# Create and train the KNN classifier\n",
    "knn = KNeighborsClassifier(n_neighbors=5)\n",
    "knn.fit(X_train, y_train)\n",
    "\n",
    "# Make predictions\n",
    "y_pred = knn.predict(X_test)\n",
    "\n",
    "# Evaluate the model\n",
    "accuracy = accuracy_score(y_test, y_pred)\n",
    "print(f\"Accuracy: {accuracy:.2f}\")\n",
    "print(\"Classification Report:\")\n",
    "print(classification_report(y_test, y_pred))"
   ]
  },
  {
   "cell_type": "code",
   "execution_count": 41,
   "id": "b44a0500-c7b1-4a0e-a682-9eacb41daa8a",
   "metadata": {},
   "outputs": [
    {
     "name": "stderr",
     "output_type": "stream",
     "text": [
      "/Library/Frameworks/Python.framework/Versions/3.12/lib/python3.12/site-packages/sklearn/model_selection/_split.py:776: UserWarning: The least populated class in y has only 1 members, which is less than n_splits=5.\n",
      "  warnings.warn(\n"
     ]
    },
    {
     "name": "stdout",
     "output_type": "stream",
     "text": [
      "Best parameters: {'metric': 'manhattan', 'n_neighbors': 7, 'weights': 'distance'}\n",
      "Best cross-validation accuracy: 0.30\n",
      "Optimized Accuracy: 0.30\n",
      "Optimized Classification Report:\n",
      "              precision    recall  f1-score   support\n",
      "\n",
      "           0       0.16      0.86      0.27         7\n",
      "           1       1.00      0.10      0.18        10\n",
      "           2       0.22      0.31      0.26        13\n",
      "           3       0.00      0.00      0.00         5\n",
      "           4       0.78      0.54      0.64        13\n",
      "           5       0.60      0.40      0.48        15\n",
      "           6       0.00      0.00      0.00         1\n",
      "           7       0.00      0.00      0.00         2\n",
      "           8       0.00      0.00      0.00         3\n",
      "           9       0.00      0.00      0.00         1\n",
      "          10       0.00      0.00      0.00         3\n",
      "          11       0.12      0.25      0.17         4\n",
      "          12       0.00      0.00      0.00         3\n",
      "          14       0.00      0.00      0.00         1\n",
      "          17       0.00      0.00      0.00         1\n",
      "          19       0.00      0.00      0.00         1\n",
      "\n",
      "    accuracy                           0.30        83\n",
      "   macro avg       0.18      0.15      0.12        83\n",
      "weighted avg       0.41      0.30      0.28        83\n",
      "\n"
     ]
    },
    {
     "name": "stderr",
     "output_type": "stream",
     "text": [
      "/Library/Frameworks/Python.framework/Versions/3.12/lib/python3.12/site-packages/sklearn/metrics/_classification.py:1531: UndefinedMetricWarning: Precision is ill-defined and being set to 0.0 in labels with no predicted samples. Use `zero_division` parameter to control this behavior.\n",
      "  _warn_prf(average, modifier, f\"{metric.capitalize()} is\", len(result))\n",
      "/Library/Frameworks/Python.framework/Versions/3.12/lib/python3.12/site-packages/sklearn/metrics/_classification.py:1531: UndefinedMetricWarning: Precision is ill-defined and being set to 0.0 in labels with no predicted samples. Use `zero_division` parameter to control this behavior.\n",
      "  _warn_prf(average, modifier, f\"{metric.capitalize()} is\", len(result))\n",
      "/Library/Frameworks/Python.framework/Versions/3.12/lib/python3.12/site-packages/sklearn/metrics/_classification.py:1531: UndefinedMetricWarning: Precision is ill-defined and being set to 0.0 in labels with no predicted samples. Use `zero_division` parameter to control this behavior.\n",
      "  _warn_prf(average, modifier, f\"{metric.capitalize()} is\", len(result))\n"
     ]
    }
   ],
   "source": [
    "from sklearn.model_selection import GridSearchCV\n",
    "\n",
    "# Define the hyperparameter grid\n",
    "param_grid = {\n",
    "    'n_neighbors': [3, 5, 7, 9, 11],\n",
    "    'weights': ['uniform', 'distance'],\n",
    "    'metric': ['euclidean', 'manhattan', 'minkowski']\n",
    "}\n",
    "\n",
    "# Create the GridSearchCV object\n",
    "grid_search = GridSearchCV(KNeighborsClassifier(), param_grid, cv=5, scoring='accuracy')\n",
    "grid_search.fit(X_train, y_train)\n",
    "\n",
    "# Best parameters and best score\n",
    "print(f\"Best parameters: {grid_search.best_params_}\")\n",
    "print(f\"Best cross-validation accuracy: {grid_search.best_score_:.2f}\")\n",
    "\n",
    "# Use the best model to predict\n",
    "best_knn = grid_search.best_estimator_\n",
    "y_pred_optimized = best_knn.predict(X_test)\n",
    "\n",
    "# Evaluate the optimized model\n",
    "accuracy_optimized = accuracy_score(y_test, y_pred_optimized)\n",
    "print(f\"Optimized Accuracy: {accuracy_optimized:.2f}\")\n",
    "print(\"Optimized Classification Report:\")\n",
    "print(classification_report(y_test, y_pred_optimized))\n"
   ]
  },
  {
   "cell_type": "code",
   "execution_count": 50,
   "id": "876dddd5-7178-4ae4-b7e8-eb8f1c2a7356",
   "metadata": {},
   "outputs": [
    {
     "name": "stdout",
     "output_type": "stream",
     "text": [
      "Accuracy: 0.30\n",
      "Classification Report:\n",
      "              precision    recall  f1-score   support\n",
      "\n",
      "           0       0.16      0.86      0.27         7\n",
      "           1       1.00      0.10      0.18        10\n",
      "           2       0.22      0.31      0.26        13\n",
      "           3       0.00      0.00      0.00         5\n",
      "           4       0.78      0.54      0.64        13\n",
      "           5       0.60      0.40      0.48        15\n",
      "           6       0.00      0.00      0.00         1\n",
      "           7       0.00      0.00      0.00         2\n",
      "           8       0.00      0.00      0.00         3\n",
      "           9       0.00      0.00      0.00         1\n",
      "          10       0.00      0.00      0.00         3\n",
      "          11       0.12      0.25      0.17         4\n",
      "          12       0.00      0.00      0.00         3\n",
      "          14       0.00      0.00      0.00         1\n",
      "          17       0.00      0.00      0.00         1\n",
      "          19       0.00      0.00      0.00         1\n",
      "\n",
      "    accuracy                           0.30        83\n",
      "   macro avg       0.18      0.15      0.12        83\n",
      "weighted avg       0.41      0.30      0.28        83\n",
      "\n"
     ]
    },
    {
     "name": "stderr",
     "output_type": "stream",
     "text": [
      "/Library/Frameworks/Python.framework/Versions/3.12/lib/python3.12/site-packages/sklearn/metrics/_classification.py:1531: UndefinedMetricWarning: Precision is ill-defined and being set to 0.0 in labels with no predicted samples. Use `zero_division` parameter to control this behavior.\n",
      "  _warn_prf(average, modifier, f\"{metric.capitalize()} is\", len(result))\n",
      "/Library/Frameworks/Python.framework/Versions/3.12/lib/python3.12/site-packages/sklearn/metrics/_classification.py:1531: UndefinedMetricWarning: Precision is ill-defined and being set to 0.0 in labels with no predicted samples. Use `zero_division` parameter to control this behavior.\n",
      "  _warn_prf(average, modifier, f\"{metric.capitalize()} is\", len(result))\n",
      "/Library/Frameworks/Python.framework/Versions/3.12/lib/python3.12/site-packages/sklearn/metrics/_classification.py:1531: UndefinedMetricWarning: Precision is ill-defined and being set to 0.0 in labels with no predicted samples. Use `zero_division` parameter to control this behavior.\n",
      "  _warn_prf(average, modifier, f\"{metric.capitalize()} is\", len(result))\n"
     ]
    }
   ],
   "source": [
    "CRISPR_gene_dependency_master_df = CRISPR_gene_effect_master_df.dropna()\n",
    "CRISPR_gene_dependency_master_df = CRISPR_gene_dependency_master_df[~CRISPR_gene_dependency_master_df['primary_disease'].isin(values_to_exclude)]\n",
    "\n",
    "# Select features and target\n",
    "X = CRISPR_gene_dependency_master_df.drop(['DepMap_ID', 'primary_disease'], axis=1).select_dtypes(include=np.number)\n",
    "y = CRISPR_gene_dependency_master_df['primary_disease']\n",
    "\n",
    "# Encode the target variable\n",
    "y = pd.factorize(y)[0]\n",
    "\n",
    "# Split the data into training and testing sets\n",
    "X_train, X_test, y_train, y_test = train_test_split(X, y, test_size=0.2, random_state=42)\n",
    "\n",
    "# Standardize the features\n",
    "scaler = StandardScaler()\n",
    "X_train = scaler.fit_transform(X_train)\n",
    "X_test = scaler.transform(X_test)\n",
    "\n",
    "# Create and train the KNN classifier\n",
    "knn = KNeighborsClassifier(n_neighbors=7, weights='distance', metric='manhattan')\n",
    "knn.fit(X_train, y_train)\n",
    "\n",
    "# Make predictions\n",
    "y_pred = knn.predict(X_test)\n",
    "\n",
    "# Evaluate the model\n",
    "accuracy = accuracy_score(y_test, y_pred)\n",
    "print(f\"Accuracy: {accuracy:.2f}\")\n",
    "print(\"Classification Report:\")\n",
    "print(classification_report(y_test, y_pred))"
   ]
  },
  {
   "cell_type": "code",
   "execution_count": 43,
   "id": "81da0d05-68e0-4835-95fb-c277395d56cc",
   "metadata": {},
   "outputs": [
    {
     "name": "stdout",
     "output_type": "stream",
     "text": [
      "Accuracy: 0.70\n",
      "Classification Report:\n",
      "              precision    recall  f1-score   support\n",
      "\n",
      "           0       0.52      0.92      0.67        12\n",
      "           1       0.81      0.81      0.81        16\n",
      "           2       0.73      0.66      0.69        29\n",
      "           3       0.80      0.40      0.53        10\n",
      "           4       0.33      0.50      0.40         6\n",
      "           5       0.85      0.85      0.85        13\n",
      "           7       0.80      0.80      0.80        15\n",
      "           9       1.00      1.00      1.00         3\n",
      "          11       1.00      0.50      0.67         2\n",
      "          12       0.60      1.00      0.75         3\n",
      "          13       0.00      0.00      0.00         1\n",
      "          16       0.00      0.00      0.00         1\n",
      "          18       0.00      0.00      0.00         3\n",
      "\n",
      "    accuracy                           0.70       114\n",
      "   macro avg       0.57      0.57      0.55       114\n",
      "weighted avg       0.70      0.70      0.69       114\n",
      "\n"
     ]
    },
    {
     "name": "stderr",
     "output_type": "stream",
     "text": [
      "/Library/Frameworks/Python.framework/Versions/3.12/lib/python3.12/site-packages/sklearn/metrics/_classification.py:1531: UndefinedMetricWarning: Precision is ill-defined and being set to 0.0 in labels with no predicted samples. Use `zero_division` parameter to control this behavior.\n",
      "  _warn_prf(average, modifier, f\"{metric.capitalize()} is\", len(result))\n",
      "/Library/Frameworks/Python.framework/Versions/3.12/lib/python3.12/site-packages/sklearn/metrics/_classification.py:1531: UndefinedMetricWarning: Precision is ill-defined and being set to 0.0 in labels with no predicted samples. Use `zero_division` parameter to control this behavior.\n",
      "  _warn_prf(average, modifier, f\"{metric.capitalize()} is\", len(result))\n",
      "/Library/Frameworks/Python.framework/Versions/3.12/lib/python3.12/site-packages/sklearn/metrics/_classification.py:1531: UndefinedMetricWarning: Precision is ill-defined and being set to 0.0 in labels with no predicted samples. Use `zero_division` parameter to control this behavior.\n",
      "  _warn_prf(average, modifier, f\"{metric.capitalize()} is\", len(result))\n"
     ]
    }
   ],
   "source": [
    "CCLE_expression_master_df = CCLE_expression_master_df.dropna()\n",
    "CCLE_expression_master_df = CCLE_expression_master_df[~CCLE_expression_master_df['primary_disease'].isin(values_to_exclude)]\n",
    "\n",
    "# Select features and target\n",
    "X = CCLE_expression_master_df.drop(['DepMap_ID', 'primary_disease'], axis=1).select_dtypes(include=np.number)\n",
    "y = CCLE_expression_master_df['primary_disease']\n",
    "\n",
    "# Encode the target variable\n",
    "y = pd.factorize(y)[0]\n",
    "\n",
    "# Split the data into training and testing sets\n",
    "X_train, X_test, y_train, y_test = train_test_split(X, y, test_size=0.2, random_state=42)\n",
    "\n",
    "# Standardize the features\n",
    "scaler = StandardScaler()\n",
    "X_train = scaler.fit_transform(X_train)\n",
    "X_test = scaler.transform(X_test)\n",
    "\n",
    "# Create and train the KNN classifier\n",
    "knn = KNeighborsClassifier(n_neighbors=5)\n",
    "knn.fit(X_train, y_train)\n",
    "\n",
    "# Make predictions\n",
    "y_pred = knn.predict(X_test)\n",
    "\n",
    "# Evaluate the model\n",
    "accuracy = accuracy_score(y_test, y_pred)\n",
    "print(f\"Accuracy: {accuracy:.2f}\")\n",
    "print(\"Classification Report:\")\n",
    "print(classification_report(y_test, y_pred))"
   ]
  },
  {
   "cell_type": "code",
   "execution_count": 44,
   "id": "6b87642b-8c24-4a90-bf17-892e4e74b8b3",
   "metadata": {},
   "outputs": [
    {
     "name": "stderr",
     "output_type": "stream",
     "text": [
      "/Library/Frameworks/Python.framework/Versions/3.12/lib/python3.12/site-packages/sklearn/model_selection/_split.py:776: UserWarning: The least populated class in y has only 1 members, which is less than n_splits=5.\n",
      "  warnings.warn(\n"
     ]
    },
    {
     "name": "stdout",
     "output_type": "stream",
     "text": [
      "Best parameters: {'metric': 'euclidean', 'n_neighbors': 5, 'weights': 'distance'}\n",
      "Best cross-validation accuracy: 0.69\n",
      "Optimized Accuracy: 0.71\n",
      "Optimized Classification Report:\n",
      "              precision    recall  f1-score   support\n",
      "\n",
      "           0       0.62      0.83      0.71        12\n",
      "           1       0.87      0.81      0.84        16\n",
      "           2       0.76      0.66      0.70        29\n",
      "           3       0.67      0.40      0.50        10\n",
      "           4       0.27      0.50      0.35         6\n",
      "           5       0.80      0.92      0.86        13\n",
      "           7       0.81      0.87      0.84        15\n",
      "           9       1.00      1.00      1.00         3\n",
      "          11       1.00      0.50      0.67         2\n",
      "          12       0.60      1.00      0.75         3\n",
      "          13       0.00      0.00      0.00         1\n",
      "          16       0.00      0.00      0.00         1\n",
      "          18       0.00      0.00      0.00         3\n",
      "\n",
      "    accuracy                           0.71       114\n",
      "   macro avg       0.57      0.58      0.56       114\n",
      "weighted avg       0.71      0.71      0.70       114\n",
      "\n"
     ]
    },
    {
     "name": "stderr",
     "output_type": "stream",
     "text": [
      "/Library/Frameworks/Python.framework/Versions/3.12/lib/python3.12/site-packages/sklearn/metrics/_classification.py:1531: UndefinedMetricWarning: Precision is ill-defined and being set to 0.0 in labels with no predicted samples. Use `zero_division` parameter to control this behavior.\n",
      "  _warn_prf(average, modifier, f\"{metric.capitalize()} is\", len(result))\n",
      "/Library/Frameworks/Python.framework/Versions/3.12/lib/python3.12/site-packages/sklearn/metrics/_classification.py:1531: UndefinedMetricWarning: Precision is ill-defined and being set to 0.0 in labels with no predicted samples. Use `zero_division` parameter to control this behavior.\n",
      "  _warn_prf(average, modifier, f\"{metric.capitalize()} is\", len(result))\n",
      "/Library/Frameworks/Python.framework/Versions/3.12/lib/python3.12/site-packages/sklearn/metrics/_classification.py:1531: UndefinedMetricWarning: Precision is ill-defined and being set to 0.0 in labels with no predicted samples. Use `zero_division` parameter to control this behavior.\n",
      "  _warn_prf(average, modifier, f\"{metric.capitalize()} is\", len(result))\n"
     ]
    }
   ],
   "source": [
    "from sklearn.model_selection import GridSearchCV\n",
    "\n",
    "# Define the hyperparameter grid\n",
    "param_grid = {\n",
    "    'n_neighbors': [3, 5, 7, 9, 11],\n",
    "    'weights': ['uniform', 'distance'],\n",
    "    'metric': ['euclidean', 'manhattan', 'minkowski']\n",
    "}\n",
    "\n",
    "# Create the GridSearchCV object\n",
    "grid_search = GridSearchCV(KNeighborsClassifier(), param_grid, cv=5, scoring='accuracy')\n",
    "grid_search.fit(X_train, y_train)\n",
    "\n",
    "# Best parameters and best score\n",
    "print(f\"Best parameters: {grid_search.best_params_}\")\n",
    "print(f\"Best cross-validation accuracy: {grid_search.best_score_:.2f}\")\n",
    "\n",
    "# Use the best model to predict\n",
    "best_knn = grid_search.best_estimator_\n",
    "y_pred_optimized = best_knn.predict(X_test)\n",
    "\n",
    "# Evaluate the optimized model\n",
    "accuracy_optimized = accuracy_score(y_test, y_pred_optimized)\n",
    "print(f\"Optimized Accuracy: {accuracy_optimized:.2f}\")\n",
    "print(\"Optimized Classification Report:\")\n",
    "print(classification_report(y_test, y_pred_optimized))\n"
   ]
  },
  {
   "cell_type": "code",
   "execution_count": 49,
   "id": "ba77846a-07e7-49e8-99eb-66f535bf4113",
   "metadata": {},
   "outputs": [
    {
     "name": "stdout",
     "output_type": "stream",
     "text": [
      "Accuracy: 0.71\n",
      "Classification Report:\n",
      "              precision    recall  f1-score   support\n",
      "\n",
      "           0       0.62      0.83      0.71        12\n",
      "           1       0.87      0.81      0.84        16\n",
      "           2       0.76      0.66      0.70        29\n",
      "           3       0.67      0.40      0.50        10\n",
      "           4       0.27      0.50      0.35         6\n",
      "           5       0.80      0.92      0.86        13\n",
      "           7       0.81      0.87      0.84        15\n",
      "           9       1.00      1.00      1.00         3\n",
      "          11       1.00      0.50      0.67         2\n",
      "          12       0.60      1.00      0.75         3\n",
      "          13       0.00      0.00      0.00         1\n",
      "          16       0.00      0.00      0.00         1\n",
      "          18       0.00      0.00      0.00         3\n",
      "\n",
      "    accuracy                           0.71       114\n",
      "   macro avg       0.57      0.58      0.56       114\n",
      "weighted avg       0.71      0.71      0.70       114\n",
      "\n"
     ]
    },
    {
     "name": "stderr",
     "output_type": "stream",
     "text": [
      "/Library/Frameworks/Python.framework/Versions/3.12/lib/python3.12/site-packages/sklearn/metrics/_classification.py:1531: UndefinedMetricWarning: Precision is ill-defined and being set to 0.0 in labels with no predicted samples. Use `zero_division` parameter to control this behavior.\n",
      "  _warn_prf(average, modifier, f\"{metric.capitalize()} is\", len(result))\n",
      "/Library/Frameworks/Python.framework/Versions/3.12/lib/python3.12/site-packages/sklearn/metrics/_classification.py:1531: UndefinedMetricWarning: Precision is ill-defined and being set to 0.0 in labels with no predicted samples. Use `zero_division` parameter to control this behavior.\n",
      "  _warn_prf(average, modifier, f\"{metric.capitalize()} is\", len(result))\n",
      "/Library/Frameworks/Python.framework/Versions/3.12/lib/python3.12/site-packages/sklearn/metrics/_classification.py:1531: UndefinedMetricWarning: Precision is ill-defined and being set to 0.0 in labels with no predicted samples. Use `zero_division` parameter to control this behavior.\n",
      "  _warn_prf(average, modifier, f\"{metric.capitalize()} is\", len(result))\n"
     ]
    }
   ],
   "source": [
    "CCLE_expression_master_df = CCLE_expression_master_df.dropna()\n",
    "CCLE_expression_master_df = CCLE_expression_master_df[~CCLE_expression_master_df['primary_disease'].isin(values_to_exclude)]\n",
    "\n",
    "# Select features and target\n",
    "X = CCLE_expression_master_df.drop(['DepMap_ID', 'primary_disease'], axis=1).select_dtypes(include=np.number)\n",
    "y = CCLE_expression_master_df['primary_disease']\n",
    "\n",
    "# Encode the target variable\n",
    "y = pd.factorize(y)[0]\n",
    "\n",
    "# Split the data into training and testing sets\n",
    "X_train, X_test, y_train, y_test = train_test_split(X, y, test_size=0.2, random_state=42)\n",
    "\n",
    "# Standardize the features\n",
    "scaler = StandardScaler()\n",
    "X_train = scaler.fit_transform(X_train)\n",
    "X_test = scaler.transform(X_test)\n",
    "\n",
    "# Create and train the KNN classifier\n",
    "knn = KNeighborsClassifier(metric= 'euclidean', n_neighbors= 5, weights= 'distance')\n",
    "knn.fit(X_train, y_train)\n",
    "\n",
    "# Make predictions\n",
    "y_pred = knn.predict(X_test)\n",
    "\n",
    "# Evaluate the model\n",
    "accuracy = accuracy_score(y_test, y_pred)\n",
    "print(f\"Accuracy: {accuracy:.2f}\")\n",
    "print(\"Classification Report:\")\n",
    "print(classification_report(y_test, y_pred))"
   ]
  }
 ],
 "metadata": {
  "kernelspec": {
   "display_name": "Python 3 (ipykernel)",
   "language": "python",
   "name": "python3"
  },
  "language_info": {
   "codemirror_mode": {
    "name": "ipython",
    "version": 3
   },
   "file_extension": ".py",
   "mimetype": "text/x-python",
   "name": "python",
   "nbconvert_exporter": "python",
   "pygments_lexer": "ipython3",
   "version": "3.12.6"
  }
 },
 "nbformat": 4,
 "nbformat_minor": 5
}
